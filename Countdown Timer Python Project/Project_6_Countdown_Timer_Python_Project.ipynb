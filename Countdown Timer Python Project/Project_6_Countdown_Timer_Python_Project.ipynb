{
  "nbformat": 4,
  "nbformat_minor": 0,
  "metadata": {
    "colab": {
      "provenance": []
    },
    "kernelspec": {
      "name": "python3",
      "display_name": "Python 3"
    },
    "language_info": {
      "name": "python"
    }
  },
  "cells": [
    {
      "cell_type": "code",
      "execution_count": null,
      "metadata": {
        "id": "xv6VptN4AScG"
      },
      "outputs": [],
      "source": [
        "import time\n",
        "from IPython.display import clear_output\n",
        "\n",
        "def countdown(t: int):\n",
        "    while t:\n",
        "        mins, secs = divmod(t, 60)\n",
        "        time_format = f\"{mins:02d}:{secs:02d}\"\n",
        "        clear_output(wait=True)  # Clear previous output\n",
        "        print(time_format)\n",
        "        time.sleep(1)\n",
        "        t -= 1\n",
        "    print(\"Times Up!\")\n",
        "\n",
        "t = int(input('Enter the second: '))\n",
        "countdown(t)"
      ]
    }
  ]
}