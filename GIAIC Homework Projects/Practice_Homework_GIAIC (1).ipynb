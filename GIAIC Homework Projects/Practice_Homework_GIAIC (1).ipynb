{
  "nbformat": 4,
  "nbformat_minor": 0,
  "metadata": {
    "colab": {
      "provenance": []
    },
    "kernelspec": {
      "name": "python3",
      "display_name": "Python 3"
    },
    "language_info": {
      "name": "python"
    }
  },
  "cells": [
    {
      "cell_type": "code",
      "execution_count": null,
      "metadata": {
        "colab": {
          "base_uri": "https://localhost:8080/"
        },
        "id": "f9x6eyzlJzQA",
        "outputId": "744282ea-7309-4b35-c192-6aab779f5334"
      },
      "outputs": [
        {
          "output_type": "stream",
          "name": "stdout",
          "text": [
            "Enter the first number: 100\n",
            "Enter the second number: 10\n",
            "110\n"
          ]
        }
      ],
      "source": [
        "num1 = int(input(\"Enter the first number: \"))\n",
        "num2 = int(input(\"Enter the second number: \"))\n",
        "\n",
        "sum: int = num1 + num2\n",
        "print(f\"The total is {sum}\")"
      ]
    },
    {
      "cell_type": "code",
      "source": [
        "favourite_animal = input(\"What's your favorite animal: \")\n",
        "print(f\"\\nMy favorite animal is also {favourite_animal}!\")"
      ],
      "metadata": {
        "colab": {
          "base_uri": "https://localhost:8080/"
        },
        "id": "ndW_9GVrKn6c",
        "outputId": "62c00037-2291-4f8b-df7f-76b29b3fd40f"
      },
      "execution_count": null,
      "outputs": [
        {
          "output_type": "stream",
          "name": "stdout",
          "text": [
            "What's your favorite animal: cow\n",
            "\n",
            "My favorite animal is also cow!\n"
          ]
        }
      ]
    },
    {
      "cell_type": "code",
      "source": [
        "degrees_fahrenheit = float(input(\"Enter temperature in Fahrenheit: \"))\n",
        "\n",
        "degree_celcius = (degrees_fahrenheit - 32) * 5.0/9.0\n",
        "\n",
        "print(f\"\\nTemperature: {degrees_fahrenheit} = {degree_celcius}C\")"
      ],
      "metadata": {
        "colab": {
          "base_uri": "https://localhost:8080/"
        },
        "id": "dN3BuK7aNzy_",
        "outputId": "9446e553-04e8-4fc3-8390-1ea5b39270af"
      },
      "execution_count": null,
      "outputs": [
        {
          "output_type": "stream",
          "name": "stdout",
          "text": [
            "Enter temperature in Fahrenheit: 76\n",
            "\n",
            "Temperature: 76.0 = 24.444444444444443C\n"
          ]
        }
      ]
    },
    {
      "cell_type": "code",
      "source": [
        "# Storing ages\n",
        "Anton_Age = 21\n",
        "Beth_Age = Anton_Age + 6\n",
        "Chen_Age = Beth_Age + 20\n",
        "Drew_Age = Chen_Age + Anton_Age\n",
        "Ethan_Age = Chen_Age\n",
        "\n",
        "# Printing names and ages\n",
        "print(f\"Anton is {Anton_Age} \")\n",
        "print(f\"Beth is {Beth_Age} \")\n",
        "print(f\"Chen is {Chen_Age} \")\n",
        "print(f\"Drew is {Drew_Age} \")\n",
        "print(f\"Ethan is {Ethan_Age} \")\n"
      ],
      "metadata": {
        "colab": {
          "base_uri": "https://localhost:8080/"
        },
        "id": "0XTaLwwmO2gu",
        "outputId": "d4eae7ca-eb47-413a-a9a1-f59f35d66565"
      },
      "execution_count": null,
      "outputs": [
        {
          "output_type": "stream",
          "name": "stdout",
          "text": [
            "Anton is 21 \n",
            "Beth is 27 \n",
            "Chen is 47 \n",
            "Drew is 68 \n",
            "Ethan is 47 \n"
          ]
        }
      ]
    },
    {
      "cell_type": "code",
      "source": [
        "side1:float = float(input(\"What is the length of side 1? \"))\n",
        "side2:float = float(input(\"What is the length of side 2? \"))\n",
        "side3:float = float(input(\"What is the length of side 3? \"))\n",
        "\n",
        "print(\"The perimeter of the triangle is \" + str(side1 + side2 + side3))"
      ],
      "metadata": {
        "colab": {
          "base_uri": "https://localhost:8080/"
        },
        "id": "ks4JDdUhQsuM",
        "outputId": "fdff6cce-b59c-4f66-bdc0-6e4f56afdb38"
      },
      "execution_count": null,
      "outputs": [
        {
          "output_type": "stream",
          "name": "stdout",
          "text": [
            "What is the length of side 1? 1\n",
            "What is the length of side 2? 2\n",
            "What is the length of side 3? 5.5\n",
            "The perimeter of the triangle is 8.5\n"
          ]
        }
      ]
    },
    {
      "cell_type": "code",
      "source": [
        "num: float = float(input(\"Type a number to see its square: \"))\n",
        "convert_num: str = str(num)\n",
        "print(convert_num + \" squared is \" + str(num ** 2))"
      ],
      "metadata": {
        "colab": {
          "base_uri": "https://localhost:8080/"
        },
        "id": "GK-FgpfbRz0d",
        "outputId": "8f708b4b-badc-4489-8e3d-d0764d103b3b"
      },
      "execution_count": null,
      "outputs": [
        {
          "output_type": "stream",
          "name": "stdout",
          "text": [
            "Type a number to see its square: 4\n",
            "4.0 squared is 16.0\n"
          ]
        }
      ]
    },
    {
      "cell_type": "code",
      "source": [
        "# 01_expressions\n",
        "# 01_dicesimulator\n",
        "\n",
        "import random\n",
        "\n",
        "# Number of sides on each die to roll\n",
        "NUM_SIDES = 6\n",
        "\n",
        "def roll_dice():\n",
        "    \"\"\"\n",
        "    Simulates rolling two dice and prints their total\n",
        "    \"\"\"\n",
        "    die1: int = random.randint(1, NUM_SIDES)\n",
        "    die2: int = random.randint(1, NUM_SIDES)\n",
        "    total: int = die1 + die2\n",
        "    print(\"Total of two dice:\", total)\n",
        "\n",
        "def main2():\n",
        "    die1: int = 10\n",
        "    print(\"die1 in main() starts as: \" + str(die1))\n",
        "    roll_dice()\n",
        "    roll_dice()\n",
        "    roll_dice()\n",
        "    print(\"die1 in main() is: \" + str(die1))\n",
        "\n",
        "if __name__ == '__main__':\n",
        "    main2()"
      ],
      "metadata": {
        "id": "7Z8Q89rcijL6"
      },
      "execution_count": null,
      "outputs": []
    },
    {
      "cell_type": "code",
      "source": [
        "# 02_e=mc2\n",
        "\n",
        "# The speed of light in m/s\n",
        "\n",
        "C: int = 299792458\n",
        "mass_in_kg: float = float(input(\"Enter kilos of mass: \"))\n",
        "\n",
        "energy_in_joules: float = mass_in_kg * (C ** 2)\n",
        "\n",
        "print(\"\\ne = m * C^2...\")\n",
        "print(\"\\nm = \" + str(mass_in_kg) + \" kg\")\n",
        "print(\"\\nC = \" + str(C) + \" m/s\\n\")\n",
        "\n",
        "print(str(energy_in_joules) + \" joules of energy!\")\n",
        "\n"
      ],
      "metadata": {
        "id": "OfAUqL0VjEVZ"
      },
      "execution_count": null,
      "outputs": []
    },
    {
      "cell_type": "code",
      "source": [
        "# 03_feet_to_inches\n",
        "\n",
        "INCHES_IN_FOOT: int = 12  # Conversion factor. There are 12 inches for 1 foot.\n",
        "\n",
        "feet: float = float(input(\"Enter number of feet: \"))  # Get the number of feet, make sure to cast it to a float!\n",
        "inches: float = feet * INCHES_IN_FOOT  # Perform the conversion\n",
        "print(\"That is\", inches, \"inches!\")"
      ],
      "metadata": {
        "id": "Y4dI3iWajEqx"
      },
      "execution_count": null,
      "outputs": []
    },
    {
      "cell_type": "code",
      "source": [
        "# 04_pythagorean_theorem\n",
        "\n",
        "import math\n",
        "\n",
        "AB: float = float(input(\"Enter the length of AB: \"))\n",
        "AC: float = float(input(\"Enter the length of AC: \"))\n",
        "\n",
        "BC: float = math.sqrt(AB**2 + AC**2)\n",
        "print(\"The length of BC (the hypotenuse) is: \" + str(BC))"
      ],
      "metadata": {
        "id": "nug7RWjPjE00"
      },
      "execution_count": null,
      "outputs": []
    },
    {
      "cell_type": "code",
      "source": [
        "# 05_remainder_division\n",
        "\n",
        "def main_():\n",
        "\n",
        "    dividend: int = int(input(\"Please enter an integer to be divided: \"))\n",
        "    divisor: int = int(input(\"Please enter an integer to divide by: \"))\n",
        "\n",
        "    quotient: int = dividend // divisor  # Divide with no remainder/decimals (integer division)\n",
        "    remainder: int = dividend % divisor  # Get the remainder of the division (modulo)\n",
        "\n",
        "    print(\"The result of this division is \" + str(quotient) + \" with a remainder of \" + str(remainder))\n",
        "\n",
        "\n",
        "main_()"
      ],
      "metadata": {
        "colab": {
          "base_uri": "https://localhost:8080/"
        },
        "id": "ezq6lqe7jaum",
        "outputId": "9258db4a-f81d-4930-f425-76778696ffa7"
      },
      "execution_count": null,
      "outputs": [
        {
          "output_type": "stream",
          "name": "stdout",
          "text": [
            "Please enter an integer to be divided: 2\n",
            "Please enter an integer to divide by: 10\n",
            "The result of this division is 0 with a remainder of 2\n"
          ]
        }
      ]
    },
    {
      "cell_type": "code",
      "source": [
        "# 06_rolldice\n",
        "\n",
        "import random\n",
        "\n",
        "# Number of sides on each die to roll\n",
        "NUM_SIDES: int = 6\n",
        "\n",
        "die1: int = random.randint(1, NUM_SIDES)\n",
        "die2: int = random.randint(1, NUM_SIDES)\n",
        "\n",
        "total: int = die1 + die2\n",
        "\n",
        "print(\"Dice have\", NUM_SIDES, \"sides each.\")\n",
        "print(\"First die:\", die1)\n",
        "print(\"Second die:\", die2)\n",
        "print(\"Total of two dice:\", total)"
      ],
      "metadata": {
        "id": "zlyeikjqja2s"
      },
      "execution_count": null,
      "outputs": []
    },
    {
      "cell_type": "code",
      "source": [
        "#\n",
        "\n",
        "days_per_year: int = 365\n",
        "hours_per_day: int = 24\n",
        "min_per_hour: int = 60\n",
        "sec_per_min: int = 60\n",
        "\n",
        "\n",
        "\n",
        "def main_program():\n",
        "\n",
        "    # Calculate and print the seconds in a year\n",
        "    print(f\"There are {days_per_year * hours_per_day * min_per_hour * sec_per_min} seconds in a year!\")\n",
        "\n",
        "\n",
        "if __name__ == '__main__':\n",
        "    main_program()"
      ],
      "metadata": {
        "id": "_3tUcMWPja-A"
      },
      "execution_count": null,
      "outputs": []
    },
    {
      "cell_type": "code",
      "source": [
        "# 07_tiny_mad_lib\n",
        "\n",
        "sentence_start: str = \"GIAIC cource is valuable! I learned to program and used Python to make my \"\n",
        "\n",
        "adjective: str = input(\"Please type an adjective and press enter. \")\n",
        "noun: str = input(\"Please type a noun and press enter. \")\n",
        "verb: str = input(\"Please type a verb and press enter. \")\n",
        "\n",
        "# Join the inputs together with the sentence starter\n",
        "print(sentence_start + adjective + \" \" + noun + \" \" + verb + \"!\")"
      ],
      "metadata": {
        "id": "kZpmai4qjbGM"
      },
      "execution_count": null,
      "outputs": []
    },
    {
      "cell_type": "code",
      "source": [
        "class Car:\n",
        "  def __call__(self):\n",
        "    pass\n",
        "\n",
        "obj = Car()\n",
        "dir(Car)\n"
      ],
      "metadata": {
        "id": "cXCyKNHPSbZS"
      },
      "execution_count": null,
      "outputs": []
    },
    {
      "cell_type": "code",
      "source": [
        "import types\n",
        "def greeting():\n",
        "  pass\n",
        "\n",
        "dir(greeting)\n",
        "\n",
        "print(isinstance(greeting, types.FunctionType))\n",
        "print(\"__call__\" in dir(types.FunctionType))\n",
        "print(isinstance(types.FunctionType,object))"
      ],
      "metadata": {
        "colab": {
          "base_uri": "https://localhost:8080/"
        },
        "id": "ezdRIU_7Sy7x",
        "outputId": "7a813d78-dbf0-4c23-f1ac-6c4a911407e1"
      },
      "execution_count": null,
      "outputs": [
        {
          "output_type": "stream",
          "name": "stdout",
          "text": [
            "True\n",
            "True\n",
            "True\n"
          ]
        }
      ]
    },
    {
      "cell_type": "code",
      "source": [
        "# 02_lists\n",
        "\n",
        "# 01_add_many_number\n",
        "\n",
        "list_of_numbers:list = []\n",
        "sum_of_numbers:int = 0\n",
        "\n",
        "for _ in range(5):\n",
        "    num = int(input('Enter the number: '))\n",
        "    list_of_numbers.append(num)\n",
        "    sum_of_numbers += num\n",
        "\n",
        "print('List of numbers:', list_of_numbers)\n",
        "print('Sum of numbers:', sum_of_numbers)"
      ],
      "metadata": {
        "id": "4Ek82LMglXrt"
      },
      "execution_count": null,
      "outputs": []
    },
    {
      "cell_type": "code",
      "source": [
        "# 02_double_list\n",
        "\n",
        "import math\n",
        "def double_no_of_list(list_of_numbers):\n",
        "\n",
        "    list_of_sqrt_numbers = []\n",
        "    for num in list_of_numbers:\n",
        "        sqrt_number = math.pow(num, 2)\n",
        "        list_of_sqrt_numbers.append(math.floor(sqrt_number))\n",
        "\n",
        "    return list_of_sqrt_numbers\n",
        "\n",
        "numbers_list:list = []\n",
        "for _ in range(5):\n",
        "    num = int(input('Enter the number: '))\n",
        "    numbers_list.append(num)\n",
        "\n",
        "print(double_no_of_list(numbers_list))\n"
      ],
      "metadata": {
        "id": "mnXgwj4HlahN"
      },
      "execution_count": null,
      "outputs": []
    },
    {
      "cell_type": "code",
      "source": [
        "# 04_flowing_with_data_structures\n",
        "\n",
        "def add_three_copies(my_list, data):\n",
        "    for i in range(3):\n",
        "        my_list.append(data)\n",
        "\n",
        "\n",
        "message = input(\"Enter a message to copy: \")\n",
        "my_list = []\n",
        "print(\"List before:\", my_list)\n",
        "add_three_copies(my_list, message)\n",
        "print(\"List after:\", my_list)"
      ],
      "metadata": {
        "id": "GUG3QVshlaow"
      },
      "execution_count": null,
      "outputs": []
    },
    {
      "cell_type": "code",
      "source": [
        "# 05_get_first_element\n",
        "\n",
        "\n",
        "def get_first_element(lst):\n",
        "    \"\"\"\n",
        "    Prints the first element of a provided list.\n",
        "    \"\"\"\n",
        "\n",
        "    print(lst[0])\n",
        "\n",
        "def get_lst():\n",
        "\n",
        "    lst = []\n",
        "    elem: str = input(\"Please enter an element of the list or press enter to stop. \")\n",
        "    while elem != \"\":\n",
        "        lst.append(elem)\n",
        "        elem = input(\"Please enter an element of the list or press enter to stop. \")\n",
        "    return lst\n",
        "\n",
        "def main_program_1():\n",
        "    lst = get_lst()\n",
        "    get_first_element(lst)\n",
        "\n",
        "\n",
        "if __name__ == '__main__':\n",
        "    main_program_1()\n",
        "\n",
        "\n"
      ],
      "metadata": {
        "id": "fXHGif_elawz"
      },
      "execution_count": null,
      "outputs": []
    },
    {
      "cell_type": "code",
      "source": [
        "# 06_get_last_element\n",
        "\n",
        "\n",
        "def get_last_element(lst):\n",
        "    \"\"\"\n",
        "    Prints the first element of a provided list.\n",
        "    \"\"\"\n",
        "\n",
        "    print(lst[-1])\n",
        "\n",
        "def get_lst():\n",
        "\n",
        "    lst = []\n",
        "    elem: str = input(\"Please enter an element of the list or press enter to stop. \")\n",
        "    while elem != \"\":\n",
        "        lst.append(elem)\n",
        "        elem = input(\"Please enter an element of the list or press enter to stop. \")\n",
        "    return lst\n",
        "\n",
        "def main_program_2():\n",
        "    lst = get_lst()\n",
        "    get_last_element(lst)\n",
        "\n",
        "\n",
        "if __name__ == '__main__':\n",
        "    main_program_2()"
      ],
      "metadata": {
        "id": "--j9dY13la4N"
      },
      "execution_count": null,
      "outputs": []
    },
    {
      "cell_type": "code",
      "source": [
        "# 07_get_list\n",
        "\n",
        "lst = []\n",
        "while True:\n",
        "    value = input(\"Enter a value: \")\n",
        "    if value == \"\":\n",
        "        break\n",
        "    convert_value = int(value)\n",
        "    lst.append(convert_value)\n",
        "\n",
        "print(lst)"
      ],
      "metadata": {
        "id": "G4FfKBfjla_s"
      },
      "execution_count": null,
      "outputs": []
    },
    {
      "cell_type": "code",
      "source": [
        "# 08_shorten\n",
        "\n",
        "MAX_LENGTH : int = 3\n",
        "\n",
        "def shorten(lst):\n",
        "    while len(lst) > MAX_LENGTH:\n",
        "        last_elem = lst.pop()\n",
        "        print(last_elem)\n",
        "\n",
        "def get_lst():\n",
        "\n",
        "    lst = []\n",
        "    elem = input(\"Please enter an element of the list or press enter to stop. \")\n",
        "    while elem != \"\":\n",
        "        lst.append(elem)\n",
        "        elem = input(\"Please enter an element of the list or press enter to stop. \")\n",
        "    return lst\n",
        "\n",
        "def main_program_3():\n",
        "    lst = get_lst()\n",
        "    shorten(lst)\n",
        "\n",
        "\n",
        "if __name__ == '__main__':\n",
        "    main_program_3()"
      ],
      "metadata": {
        "id": "mwiIleTylbG2"
      },
      "execution_count": null,
      "outputs": []
    },
    {
      "cell_type": "code",
      "source": [
        "# 03_if_statements\n",
        "\n",
        "# 01_print_events\n",
        "\n",
        "def main_program_4():\n",
        "\n",
        "    for i in range(20):\n",
        "        print(i * 2)\n",
        "\n",
        "if __name__ == \"__main__\":\n",
        "    main_program_4()"
      ],
      "metadata": {
        "id": "FOQYUBSflbOg"
      },
      "execution_count": null,
      "outputs": []
    },
    {
      "cell_type": "code",
      "source": [
        "# 02_international_voting_age\n",
        "\n",
        "PETURKSBOUIPO_AGE : int = 16\n",
        "STANLAU_AGE : int = 25\n",
        "MAYENGUA_AGE : int = 48\n",
        "\n",
        "def main_program_5():\n",
        "    # Get the user's age\n",
        "    user_age = int(input(\"How old are you? \"))\n",
        "\n",
        "    # Check if the user can vote in Peturksbouipo\n",
        "    if user_age >= PETURKSBOUIPO_AGE:\n",
        "        print(\"You can vote in Peturksbouipo where the voting age is \" + str(PETURKSBOUIPO_AGE) + \".\")\n",
        "    else:\n",
        "        print(\"You cannot vote in Peturksbouipo where the voting age is \" + str(PETURKSBOUIPO_AGE) + \".\")\n",
        "\n",
        "    # Check if the user can vote in Stanlau\n",
        "    if user_age >= STANLAU_AGE:\n",
        "        print(\"You can vote in Stanlau where the voting age is \" + str(STANLAU_AGE) + \".\")\n",
        "    else:\n",
        "        print(\"You cannot vote in Stanlau where the voting age is \" + str(STANLAU_AGE) + \".\")\n",
        "\n",
        "    # Check if user can vote in Mayengua\n",
        "    if user_age >= MAYENGUA_AGE:\n",
        "        print(\"You can vote in Mayengua where the voting age is \" + str(MAYENGUA_AGE) + \".\")\n",
        "    else:\n",
        "        print(\"You cannot vote in Mayengua where the voting age is \" + str(MAYENGUA_AGE) + \".\")\n",
        "\n",
        "\n",
        "if __name__ == '__main__':\n",
        "    main_program_5()"
      ],
      "metadata": {
        "id": "PKSjZEinlbVg"
      },
      "execution_count": null,
      "outputs": []
    },
    {
      "cell_type": "code",
      "source": [
        "# 03_leap_year\n",
        "\n",
        "year: int = int(input('Enter year:'))\n",
        "\n",
        "if year % 4 == 0:\n",
        "  if year % 100 == 0:\n",
        "    if year % 400 == 0:\n",
        "      print(f\"{year} is a leap year\")\n",
        "    else:\n",
        "      print(f\"{year} is not a leap year\")\n",
        "  else:\n",
        "    print(f\"{year} is a leap year\")\n",
        "else:\n",
        "  print(f\"{year} is not a leap year\")"
      ],
      "metadata": {
        "id": "lB4RVXXHZ7ug",
        "colab": {
          "base_uri": "https://localhost:8080/"
        },
        "outputId": "6fcf56c5-1777-45bb-82eb-468b398a853b"
      },
      "execution_count": null,
      "outputs": [
        {
          "output_type": "stream",
          "name": "stdout",
          "text": [
            "Enter year:2025\n",
            "2025 is not a leap year\n"
          ]
        }
      ]
    },
    {
      "cell_type": "code",
      "source": [
        "# 04_tall_enough_to_ride\n",
        "\n",
        "MINIMUM_HEIGHT : int = 50\n",
        "\n",
        "def main_program_6():\n",
        "\n",
        "    height = float(input(\"How tall are you? \"))\n",
        "    if height >= MINIMUM_HEIGHT:\n",
        "        print(\"You're tall enough to ride!\")\n",
        "    else:\n",
        "        print(\"You're not tall enough to ride, but maybe next year!\")\n",
        "\n",
        "\n",
        "if __name__ == '__main__':\n",
        "    main_program_6()"
      ],
      "metadata": {
        "id": "G0Gr1ieKninG"
      },
      "execution_count": null,
      "outputs": []
    },
    {
      "cell_type": "code",
      "source": [
        "# 05_random_numbers\n",
        "\n",
        "import random\n",
        "\n",
        "lst: list[int] = []\n",
        "for i in range(10):\n",
        "  value = random.randint(1,100)\n",
        "  lst.append(value)\n",
        "\n",
        "print(lst)"
      ],
      "metadata": {
        "colab": {
          "base_uri": "https://localhost:8080/"
        },
        "id": "q7U6_kWqTjJT",
        "outputId": "8eb04e28-f024-4230-bba5-05197475732f"
      },
      "execution_count": null,
      "outputs": [
        {
          "output_type": "stream",
          "name": "stdout",
          "text": [
            "[28, 35, 35, 26, 38, 78, 67, 72, 32, 8]\n"
          ]
        }
      ]
    },
    {
      "cell_type": "code",
      "source": [
        "#  04_dictionaries\n",
        "# 00_count_nums\n",
        "\n",
        "# First way to counting a repeating numbers\n",
        "\n",
        "# Get list of numbers\n",
        "\n",
        "def user_input_numbers2():\n",
        "    lst_number: list[int] = []\n",
        "\n",
        "    while True:\n",
        "        number = input('Enter a number: ')\n",
        "        if number == \"\":\n",
        "            break\n",
        "        else:\n",
        "            convert_number = int(number)\n",
        "            lst_number.append(convert_number)\n",
        "\n",
        "    return lst_number\n",
        "\n",
        "# Convert list of number in key,value pair\n",
        "\n",
        "def dict_of_num(number_lst):\n",
        "\n",
        "    num_dict = {}\n",
        "    for num in number_lst:\n",
        "      if num not in num_dict:\n",
        "        num_dict[num] = 1\n",
        "      else:\n",
        "        num_dict[num] += 1\n",
        "    return num_dict\n",
        "\n",
        "\n",
        "# Count a repeating value from dictionary\n",
        "\n",
        "def counting_of_numbers(get_dict):\n",
        "\n",
        "    for num,count in get_dict.items():\n",
        "      print(f\"{num} came {count} times!\")\n",
        "\n",
        "lst_num_func = user_input_numbers2()\n",
        "func_dict = dict_of_num(lst_num_func)\n",
        "counting_of_numbers(func_dict)"
      ],
      "metadata": {
        "colab": {
          "base_uri": "https://localhost:8080/"
        },
        "id": "-XaB0xdiXo-Z",
        "outputId": "e7e9e5c6-c51d-4505-ccfb-36bbd3a5af62"
      },
      "execution_count": null,
      "outputs": [
        {
          "output_type": "stream",
          "name": "stdout",
          "text": [
            "Enter a number: 2\n",
            "Enter a number: 2\n",
            "Enter a number: \n",
            "2 came 2 times!\n"
          ]
        }
      ]
    },
    {
      "cell_type": "code",
      "source": [
        "# Second and easy way to counting a repeating numbers\n",
        "from collections import Counter\n",
        "\n",
        "def user_input_numbers():\n",
        "\n",
        "  lst_numbers: list[int] = []\n",
        "\n",
        "  while True:\n",
        "\n",
        "    numbers = input('Enter a number: ')\n",
        "    if numbers == \"\":\n",
        "      break\n",
        "    else:\n",
        "      convert_numbers = int(numbers)\n",
        "      lst_numbers.append(convert_numbers)\n",
        "\n",
        "  return lst_numbers\n",
        "\n",
        "count_repeating_number = Counter(user_input_numbers())\n",
        "\n",
        "for num,count in count_repeating_number.items():\n",
        "  print(f'{num} came {count} times')"
      ],
      "metadata": {
        "colab": {
          "base_uri": "https://localhost:8080/"
        },
        "id": "PZYhOegBZqNc",
        "outputId": "bbde2739-1074-4f1b-811b-7c712afb1052"
      },
      "execution_count": null,
      "outputs": [
        {
          "output_type": "stream",
          "name": "stdout",
          "text": [
            "Enter a number: 2\n",
            "Enter a number: 2\n",
            "Enter a number: 3\n",
            "Enter a number: 3\n",
            "Enter a number: 3\n",
            "Enter a number: 5\n",
            "Enter a number: 5\n",
            "Enter a number: \n",
            "2 came 2 times\n",
            "3 came 3 times\n",
            "5 came 2 times\n"
          ]
        }
      ]
    },
    {
      "cell_type": "code",
      "source": [
        "# 01_phonebook\n",
        "\n",
        "def number_details():\n",
        "\n",
        "  dict_phonebook = {}\n",
        "  while True:\n",
        "    name = input(\"Enter name: \")\n",
        "    if name == \"\":\n",
        "      break\n",
        "    phone_number: int = int(input(\"Enter phone number: \"))\n",
        "    dict_phonebook[name] = phone_number\n",
        "\n",
        "  return dict_phonebook\n",
        "\n",
        "def read_phonebook(get_phonebook):\n",
        "\n",
        "  for name,phone_number in get_phonebook.items():\n",
        "    print(f'{name}: {phone_number}')\n",
        "\n",
        "def lookup_phonebook(get_phonebook):\n",
        "  while True:\n",
        "    name = input('Enter name: ')\n",
        "    if name not in get_phonebook:\n",
        "      print(f'{name} not found!')\n",
        "      break\n",
        "    else:\n",
        "      print(f'{get_phonebook[name]} Number Found!')\n",
        "\n",
        "number_data = number_details()\n",
        "read_phonebook(number_data)\n",
        "lookup_phonebook(number_data)"
      ],
      "metadata": {
        "id": "jvM3qIm-cyUb"
      },
      "execution_count": null,
      "outputs": []
    },
    {
      "cell_type": "code",
      "source": [
        "# 02_pop_up_shop\n",
        "\n",
        "dict_fruit = {\n",
        "    \"Mango\": \"per kg Rs. 150\",\n",
        "    \"Banana\": \"per dozen Rs. 100\",\n",
        "    \"Apple\": \"per kg Rs. 200 \",\n",
        "    \"Orange\": \"per kgRs. 120\"\n",
        "}\n",
        "\n",
        "total:int = 0\n",
        "for fruit_name,price in dict_fruit.items():\n",
        "    print(f\"{fruit_name} {price}\")\n",
        "    purchasing_fruits = input(f\"How many {fruit_name} do you want?\")\n",
        "    convert_purchasing_fruits = int(purchasing_fruits)\n",
        "    if fruit_name == \"Mango\":\n",
        "        total += convert_purchasing_fruits  * 150\n",
        "    elif fruit_name == \"Banana\":\n",
        "        total += convert_purchasing_fruits  * 100\n",
        "    elif fruit_name == \"Apple\":\n",
        "        total += convert_purchasing_fruits  * 200\n",
        "    elif fruit_name == \"Orange\":\n",
        "        total += convert_purchasing_fruits  * 120\n",
        "    else:\n",
        "        print(\"Stock not available\")\n",
        "\n",
        "print(f\"total = RS {total}PKR\")"
      ],
      "metadata": {
        "colab": {
          "base_uri": "https://localhost:8080/"
        },
        "id": "gave8uNjh2Pa",
        "outputId": "6915ab59-7aea-4652-e632-d07af16fe735"
      },
      "execution_count": null,
      "outputs": [
        {
          "output_type": "stream",
          "name": "stdout",
          "text": [
            "Mango\n",
            "Banana\n",
            "Apple\n",
            "Orange\n"
          ]
        }
      ]
    },
    {
      "cell_type": "code",
      "source": [
        "# 03_powerful_passwords\n",
        "\n",
        "from hashlib import sha256\n",
        "\n",
        "login_data = {}  # Global dictionary to store email:hashed_password\n",
        "\n",
        "def convert_password_hash(user_password):\n",
        "    return sha256(user_password.encode()).hexdigest()\n",
        "\n",
        "def read_password():\n",
        "    while True:\n",
        "        user_email = input(\"Enter email: \")\n",
        "        user_password = input(\"Enter password: \")\n",
        "        hashed_password = convert_password_hash(user_password)\n",
        "\n",
        "        if user_email not in login_data:\n",
        "            login_data[user_email] = hashed_password\n",
        "            print(\"Registered successfully!\")\n",
        "        elif login_data[user_email] == hashed_password:\n",
        "            print(\"Login successfully!\")\n",
        "            break\n",
        "        else:\n",
        "            print(\"Incorrect password. Try again!\")\n",
        "\n",
        "read_password()"
      ],
      "metadata": {
        "id": "fWslcXdZiyYm"
      },
      "execution_count": null,
      "outputs": []
    },
    {
      "cell_type": "code",
      "source": [
        "# 05_loops_control_flow\n",
        "# 00_guess_my_number\n",
        "\n",
        "# Guess My Number\n",
        "import random\n",
        "\n",
        "secret_number = random.randint(0,99)\n",
        "\n",
        "\n",
        "high_number_list = []\n",
        "low_number_list = []\n",
        "\n",
        "print('I am thinking of a number between 0 and 99...')\n",
        "user_guess = input(\"Enter a guess: \")\n",
        "guess_number = int(user_guess)\n",
        "\n",
        "while True:\n",
        "  if guess_number < secret_number:\n",
        "      low_number_list.append(guess_number)\n",
        "      print(\"Your guess is too low:\",low_number_list)\n",
        "\n",
        "  elif guess_number > secret_number:\n",
        "      high_number_list.append(guess_number)\n",
        "      print(\"Too high! \",high_number_list)\n",
        "\n",
        "  else:\n",
        "      print(f\"Congrats! The number was: {secret_number}\")\n",
        "      break\n",
        "  user_guess = input(\"Enter a new number: \")\n",
        "  guess_number = int(user_guess)\n",
        "\n"
      ],
      "metadata": {
        "colab": {
          "base_uri": "https://localhost:8080/"
        },
        "id": "wW1-CmJVwvhk",
        "outputId": "f81e460a-9862-4b63-f72b-2d705c2721cb"
      },
      "execution_count": null,
      "outputs": [
        {
          "output_type": "stream",
          "name": "stdout",
          "text": [
            "I am thinking of a number between 0 and 99...\n",
            "Enter a guess: 70\n",
            "Too high!  [70]\n",
            "Enter a new number: 50\n",
            "Too high!  [70, 50]\n",
            "Enter a new number: 20\n",
            "Your guess is too low: [20]\n",
            "Enter a new number: 40\n",
            "Your guess is too low: [20, 40]\n",
            "Enter a new number: 45\n",
            "Your guess is too low: [20, 40, 45]\n",
            "Enter a new number: 48\n",
            "Too high!  [70, 50, 48]\n",
            "Enter a new number: 47\n",
            "Congrats! The number was: 47\n"
          ]
        }
      ]
    },
    {
      "cell_type": "code",
      "source": [
        "# 01_fibonacci\n",
        "\n",
        "# 10 position pe konsi fabonnaci value hai wo dho Market Pracitice yahi hai ke hum 0 start kare\n",
        "\n",
        "def fabonnaci(num):\n",
        "    real_number = 0\n",
        "    increase_number:int = 1\n",
        "    previous_number = 0\n",
        "    for i in range(num+1):\n",
        "        if i == 0:\n",
        "            print(i)\n",
        "        elif i == 1:\n",
        "            print(i)\n",
        "        else:\n",
        "          real_number = previous_number + increase_number\n",
        "          previous_number = increase_number\n",
        "          increase_number = real_number\n",
        "          print(real_number)\n",
        "    # return real_number\n",
        "\n",
        "fabonnaci(10)"
      ],
      "metadata": {
        "colab": {
          "base_uri": "https://localhost:8080/"
        },
        "id": "MGjIkjL3wvqc",
        "outputId": "f2c84562-d194-4430-91f8-ae93ddb21a30"
      },
      "execution_count": null,
      "outputs": [
        {
          "output_type": "stream",
          "name": "stdout",
          "text": [
            "0\n",
            "1\n",
            "1\n",
            "2\n",
            "3\n",
            "5\n",
            "8\n",
            "13\n",
            "21\n",
            "34\n",
            "55\n"
          ]
        }
      ]
    },
    {
      "cell_type": "code",
      "source": [
        "# 01_fibonacci\n",
        "\n",
        "# 10 ke neechy jithne bhi fabonnaci values hai wo dho\n",
        "\n",
        "MAX_TERM_VALUE : int = 10\n",
        "\n",
        "def main_program_7():\n",
        "    curr_term = 0  # The 0th Fibonacci Number\n",
        "    next_term = 1  # The 1st Fibonacci Number\n",
        "    while curr_term <= MAX_TERM_VALUE:\n",
        "        print(curr_term)\n",
        "        term_after_next = curr_term + next_term\n",
        "        curr_term = next_term\n",
        "        next_term = term_after_next\n",
        "\n",
        "\n",
        "# There is no need to edit code beyond this point\n",
        "\n",
        "if __name__ == '__main__':\n",
        "    main_program_7()"
      ],
      "metadata": {
        "colab": {
          "base_uri": "https://localhost:8080/"
        },
        "id": "kKOxVUApwv0H",
        "outputId": "d1178750-54c7-48ac-916f-38e671f1202a"
      },
      "execution_count": null,
      "outputs": [
        {
          "output_type": "stream",
          "name": "stdout",
          "text": [
            "0\n",
            "1\n",
            "1\n",
            "2\n",
            "3\n",
            "5\n",
            "8\n"
          ]
        }
      ]
    },
    {
      "cell_type": "code",
      "source": [
        "# 02_print_events\n",
        "# This already done in 03_if_statements (01_print_events)\n",
        "\n",
        "              #### Print even numbers ######\n",
        "\n",
        "for i in range(0,20+1,2):\n",
        "    print(i)\n"
      ],
      "metadata": {
        "id": "jlJNi0QPssMF"
      },
      "execution_count": null,
      "outputs": []
    },
    {
      "cell_type": "code",
      "source": [
        "# 03_wholesome_machine\n",
        "\n",
        "\n",
        "AFFIRMATION : str = \"I am capable of doing anything I put my mind to.\"\n",
        "\n",
        "def main_program_8():\n",
        "    print(\"Please type the following affirmation: \" + AFFIRMATION)\n",
        "\n",
        "    user_feedback = input()\n",
        "    while user_feedback != AFFIRMATION:\n",
        "\n",
        "        print(\"That was not the affirmation.\")\n",
        "\n",
        "        # Ask the user to type the affirmation again!\n",
        "\n",
        "        print(\"Please type the following affirmation: \" + AFFIRMATION)\n",
        "        user_feedback = input()\n",
        "\n",
        "    print(\"That's right! :)\")\n",
        "\n",
        "\n",
        "if __name__ == '__main__':\n",
        "    main_program_8()"
      ],
      "metadata": {
        "id": "DWd9AcoXtDJx"
      },
      "execution_count": null,
      "outputs": []
    },
    {
      "cell_type": "code",
      "source": [
        "# 04_liftoff\n",
        "\n",
        "             ##### Print reverse order number() #######\n",
        "\n",
        "for i in range(10,0,-1):\n",
        "  print(i,end=\" \")  # Print last mai \\n add kartha hai tho end=\" \" us \\n ki jagah space add kardetha hai\n",
        "print(\"\\\"Liftoff!\\\"\")\n",
        "\n"
      ],
      "metadata": {
        "colab": {
          "base_uri": "https://localhost:8080/"
        },
        "id": "mVcbDKUCF8mY",
        "outputId": "a3c366a7-229b-4154-8a85-7f073d978faf"
      },
      "execution_count": null,
      "outputs": [
        {
          "output_type": "stream",
          "name": "stdout",
          "text": [
            "10 9 8 7 6 5 4 3 2 1 \"Liftoff!\"\n"
          ]
        }
      ]
    },
    {
      "cell_type": "code",
      "source": [
        "# 05_double_it\n",
        "\n",
        "user_input = int(input(\"Enter a number: \"))\n",
        "value = user_input * 2\n",
        "print(f\"{user_input} double is {value}\")\n",
        "while value <= 100:\n",
        "  double_number = value\n",
        "  value = double_number * 2\n",
        "  print(f\"{double_number} double is {value}\")"
      ],
      "metadata": {
        "colab": {
          "base_uri": "https://localhost:8080/"
        },
        "id": "E1fPnwFDKC1F",
        "outputId": "ae34d109-f2f7-4bd0-a69e-142515be5dbe"
      },
      "execution_count": null,
      "outputs": [
        {
          "output_type": "stream",
          "name": "stdout",
          "text": [
            "Enter a number: 2\n",
            "2 double is 4\n",
            "4 double is 8\n",
            "8 double is 16\n",
            "16 double is 32\n",
            "32 double is 64\n",
            "64 double is 128\n"
          ]
        }
      ]
    },
    {
      "cell_type": "code",
      "source": [
        "# 06_functions\n",
        "# 00_averages\n",
        "\n",
        "def average(a,b):\n",
        "  average = (a + b)/ 2\n",
        "  return average\n",
        "\n",
        "average(2,4)"
      ],
      "metadata": {
        "id": "fSd66xAOTp50",
        "colab": {
          "base_uri": "https://localhost:8080/"
        },
        "outputId": "eabf3835-edbd-4cf6-c567-09be329dc245"
      },
      "execution_count": null,
      "outputs": [
        {
          "output_type": "execute_result",
          "data": {
            "text/plain": [
              "3.0"
            ]
          },
          "metadata": {},
          "execution_count": 5
        }
      ]
    },
    {
      "cell_type": "code",
      "source": [
        "# 01_chaotic_counting\n",
        "\n",
        "import random\n",
        "def chaotic_counting():\n",
        "    for i in range(10):\n",
        "        curr_num = i + 1\n",
        "        if done():\n",
        "            return # this ends the function execution, so we'll get back to the main() function!\n",
        "        print(curr_num)\n",
        "\n",
        "# There is no need to edit code beyond this point\n",
        "\n",
        "def done():\n",
        "    DONE_LIKELIHOOD = 1\n",
        "\n",
        "    \"\"\" Returns True with a probability of DONE_LIKELIHOOD \"\"\"\n",
        "    if random.random() < DONE_LIKELIHOOD:\n",
        "        return True\n",
        "    return False\n",
        "\n",
        "def main_1():\n",
        "    print(\"I'm going to count until 10 or until I feel like stopping, whichever comes first.\")\n",
        "    chaotic_counting()\n",
        "    print(\"I'm done\")\n",
        "\n",
        "if __name__ == \"__main__\":\n",
        "    main_1()"
      ],
      "metadata": {
        "colab": {
          "base_uri": "https://localhost:8080/"
        },
        "id": "xpn5zMdkAo0i",
        "outputId": "f5367755-bfc4-4ed2-d1e8-63dad720f05e"
      },
      "execution_count": null,
      "outputs": [
        {
          "output_type": "stream",
          "name": "stdout",
          "text": [
            "I'm going to count until 10 or until I feel like stopping, whichever comes first.\n",
            "I'm done\n"
          ]
        }
      ]
    },
    {
      "cell_type": "code",
      "source": [
        "# 02_count_even\n",
        "\n",
        "def count_even1(lst):\n",
        "  for i in lst:\n",
        "    if i % 2 == 0:\n",
        "      print(i)\n",
        "\n",
        "list_of_number = []\n",
        "while True:\n",
        "  number = input(\"Enter an integer or press enter to stop: \")\n",
        "  if number == '':\n",
        "      break\n",
        "  else:\n",
        "    numbers = int(number)\n",
        "    list_of_number.append(numbers)\n",
        "\n",
        "if __name__ == '__main__':\n",
        "  count_even1(list_of_number)\n"
      ],
      "metadata": {
        "colab": {
          "base_uri": "https://localhost:8080/"
        },
        "id": "i-vasQqCDE30",
        "outputId": "60994f35-637a-4fba-b74e-e84fef761e20"
      },
      "execution_count": null,
      "outputs": [
        {
          "output_type": "stream",
          "name": "stdout",
          "text": [
            "Enter an integer or press enter to stop: 2\n",
            "Enter an integer or press enter to stop: 4\n",
            "Enter an integer or press enter to stop: 6\n",
            "Enter an integer or press enter to stop: 7\n",
            "Enter an integer or press enter to stop: 5\n",
            "Enter an integer or press enter to stop: \n",
            "2\n",
            "4\n",
            "6\n"
          ]
        }
      ]
    },
    {
      "cell_type": "code",
      "source": [
        "# 04_double\n",
        "\n",
        "def double_num(num: int):\n",
        "    return num * 2\n",
        "\n",
        "\n",
        "num = int(input(\"Enter a number: \"))\n",
        "num_times_2 = double_num(num)\n",
        "print(num,\"Double is\", num_times_2)\n"
      ],
      "metadata": {
        "colab": {
          "base_uri": "https://localhost:8080/"
        },
        "id": "FqpRsVchuZt0",
        "outputId": "fafb7f20-d1b9-4a3f-9df6-c0a7323620ac"
      },
      "execution_count": null,
      "outputs": [
        {
          "output_type": "stream",
          "name": "stdout",
          "text": [
            "Enter a number: 2\n",
            "2 Double that is 4\n"
          ]
        }
      ]
    },
    {
      "cell_type": "code",
      "source": [
        "# 06_is_odd\n",
        "\n",
        "list_all_number = []\n",
        "\n",
        "def double(num) :\n",
        "  if num % 2 == 0 :\n",
        "    even_number = f\"{num} even\"\n",
        "    list_all_number.append(even_number)\n",
        "  else:\n",
        "    odd_number = f\"{num} odd\"\n",
        "    list_all_number.append(odd_number)\n",
        "  return list_all_number\n",
        "\n",
        "while True:\n",
        "    user_input = input('Enter a number: ')\n",
        "    if user_input == '':\n",
        "      break\n",
        "    else:\n",
        "      convert_user_input = int(user_input)\n",
        "      double(convert_user_input)\n",
        "\n",
        "\n",
        "for i in list_all_number:\n",
        "  print(i,end=\" \")"
      ],
      "metadata": {
        "colab": {
          "base_uri": "https://localhost:8080/"
        },
        "id": "yETqPH2oHP20",
        "outputId": "70488cf5-a586-41df-a63d-addc7b98ed42"
      },
      "execution_count": null,
      "outputs": [
        {
          "output_type": "stream",
          "name": "stdout",
          "text": [
            "Enter a number: 10\n",
            "Enter a number: 11\n",
            "Enter a number: 2\n",
            "Enter a number: 13\n",
            "Enter a number: 4\n",
            "Enter a number: \n",
            "10 even 11 odd 2 even 13 odd 4 even "
          ]
        }
      ]
    },
    {
      "cell_type": "code",
      "source": [
        "# 07_print_divisor\n",
        "\n",
        "def print_divisors(num):\n",
        "  print(\"Divisors:\",end=\" \")\n",
        "  for i in range(1,num+1):\n",
        "    if num % i == 0:\n",
        "      print(i,end=\" \")\n",
        "\n",
        "user_num = input('Enter a number to find divisors: ')\n",
        "convert_user_num = int(user_num)\n",
        "print_divisors(convert_user_num)"
      ],
      "metadata": {
        "colab": {
          "base_uri": "https://localhost:8080/"
        },
        "id": "edDJYGNCK_Yh",
        "outputId": "75698cec-382b-4a65-a897-c8a581bcf65c"
      },
      "execution_count": null,
      "outputs": [
        {
          "output_type": "stream",
          "name": "stdout",
          "text": [
            "Enter a number to find divisors: 12\n",
            "Divisors: 1 2 3 4 6 12 "
          ]
        }
      ]
    },
    {
      "cell_type": "code",
      "source": [
        "# 08_print_multiple\n",
        "\n",
        "\n",
        "def print_multiple(message, repeats):\n",
        "  for i in range(repeats):\n",
        "    print(message,end=\" \")\n",
        "\n",
        "\n",
        "\n",
        "user_message: str = input(\"Enter a message: \")\n",
        "user_repeats = int(input(\"Enter how many times you want your message to repeat: \"))\n",
        "\n",
        "print_multiple(user_message,user_repeats)\n"
      ],
      "metadata": {
        "colab": {
          "base_uri": "https://localhost:8080/"
        },
        "id": "xZ9yoADvNpAs",
        "outputId": "46b07222-7afd-4aab-9905-0db0cea4a430"
      },
      "execution_count": null,
      "outputs": [
        {
          "output_type": "stream",
          "name": "stdout",
          "text": [
            "Enter a message: Hello!\n",
            "Enter how many times you want your message to repeat: 5\n",
            "Hello! Hello! Hello! Hello! Hello! "
          ]
        }
      ]
    },
    {
      "cell_type": "code",
      "source": [
        "# 09_sentence_generator\n",
        "\n",
        "def make_sentence(word, part_of_speech):\n",
        "  if part_of_speech == 0:\n",
        "    print(f\"I am excited to add this {word} to my vast collection of them!\")\n",
        "  elif part_of_speech == 1:\n",
        "    print(f\"It's so nice outside today it makes me want to {word}!\")\n",
        "  elif part_of_speech == 2:\n",
        "    print(f\"Looking out my window, the sky is big and {word}!\")\n",
        "\n",
        "def main_3():\n",
        "  user_word = input(\"Please type a noun, verb, or adjective: \")\n",
        "  user_num_pos = int(input(\"Is this a noun, verb, or adjective? Type 0 for noun, 1 for verb, 2 for adjective: 2\"))\n",
        "  make_sentence(user_word,user_num_pos)\n",
        "\n",
        "if __name__ == '__main__':\n",
        "  main_3()"
      ],
      "metadata": {
        "colab": {
          "base_uri": "https://localhost:8080/"
        },
        "id": "OWquhjCDP0ft",
        "outputId": "14ee159f-3bed-4a1b-c6af-b360097eb726"
      },
      "execution_count": null,
      "outputs": [
        {
          "output_type": "stream",
          "name": "stdout",
          "text": [
            "Please type a noun, verb, or adjective: groovy\n",
            "Is this a noun, verb, or adjective? Type 0 for noun, 1 for verb, 2 for adjective: 22\n",
            "Looking out my window, the sky is big and groovy!\n"
          ]
        }
      ]
    },
    {
      "cell_type": "code",
      "source": [
        "# 10_print_ones_digit\n",
        "\n",
        "def print_ones_digit(num):\n",
        "  remainder = num % 10\n",
        "  print(remainder)\n",
        "\n",
        "def main_4():\n",
        "    user_num = int(input(\"Enter a number: \"))\n",
        "    print_ones_digit(user_num)\n",
        "if __name__ == '__main__':\n",
        "    main_4()"
      ],
      "metadata": {
        "colab": {
          "base_uri": "https://localhost:8080/"
        },
        "id": "NGWwU5QmRVjv",
        "outputId": "bfa772ee-4cdb-4936-bb3f-7eace2855126"
      },
      "execution_count": null,
      "outputs": [
        {
          "output_type": "stream",
          "name": "stdout",
          "text": [
            "Enter a number: 42\n",
            "2\n"
          ]
        }
      ]
    },
    {
      "cell_type": "code",
      "source": [
        "# 07_information_flow\n",
        "# 00_choosing_returns\n",
        "\n",
        "ADULT_AGE = 18\n",
        "\n",
        "def is_adult(age):\n",
        "  if age >= ADULT_AGE:\n",
        "    return True\n",
        "\n",
        "  return False\n",
        "\n",
        "user_age = int(input('How old is this person?:'))\n",
        "is_adult(user_age)"
      ],
      "metadata": {
        "colab": {
          "base_uri": "https://localhost:8080/"
        },
        "id": "0LFq1ibeVy9g",
        "outputId": "cf68aca4-9606-4082-897b-8a310f5b63ea"
      },
      "execution_count": null,
      "outputs": [
        {
          "name": "stdout",
          "output_type": "stream",
          "text": [
            "How old is this person?:7\n"
          ]
        },
        {
          "output_type": "execute_result",
          "data": {
            "text/plain": [
              "False"
            ]
          },
          "metadata": {},
          "execution_count": 39
        }
      ]
    },
    {
      "cell_type": "code",
      "source": [
        "# 01_greetings\n",
        "\n",
        "\n",
        "def greet(name):\n",
        "  print(f\"Greetings {name}!\")\n",
        "\n",
        "def main_5():\n",
        "  user_name_for_greet = input(\"Enter you name: \")\n",
        "  greet(user_name_for_greet)\n",
        "\n",
        "if __name__ == '__main__':\n",
        "  main_5()"
      ],
      "metadata": {
        "colab": {
          "base_uri": "https://localhost:8080/"
        },
        "id": "qiKxemsJZMWu",
        "outputId": "ad53185a-1c6c-420f-e5d6-db46d25d6c8f"
      },
      "execution_count": null,
      "outputs": [
        {
          "output_type": "stream",
          "name": "stdout",
          "text": [
            "Enter you name: Shahzain Ali\n",
            "Greetings Shahzain Ali!\n"
          ]
        }
      ]
    },
    {
      "cell_type": "code",
      "source": [
        "# 02_in_range\n",
        "\n",
        "def in_range(n, low, high):\n",
        "  if n >= low and n <= high:\n",
        "    return True\n",
        "  return False\n",
        "\n",
        "def main_6():\n",
        "  n = input('Enter a number: ')\n",
        "  low = input('Enter a low number: ')\n",
        "  high = input('Enter a high number:')\n",
        "  print(in_range(n,low,high))\n",
        "\n",
        "if __name__ == '__main__':\n",
        "    main_6()"
      ],
      "metadata": {
        "colab": {
          "base_uri": "https://localhost:8080/"
        },
        "id": "TgN_8FKSZvMZ",
        "outputId": "3f5aeec6-db12-4fa8-be4a-671b04480990"
      },
      "execution_count": null,
      "outputs": [
        {
          "output_type": "stream",
          "name": "stdout",
          "text": [
            "Enter a number: 3\n",
            "Enter a low number: 2\n",
            "Enter a high number:5\n",
            "True\n"
          ]
        }
      ]
    },
    {
      "cell_type": "code",
      "source": [
        "# 03_in_stock\n",
        "\n",
        "inventory = {\n",
        "    \"pear\": 1000,\n",
        "    \"orange\": 200,\n",
        "    \"grapes\": 230,\n",
        "    \"Mango\": 2200,\n",
        "}\n",
        "\n",
        "def num_in_stock(fruit):\n",
        "    found = False  # Variable to track if the fruit is found\n",
        "    for fruit_name, stock in inventory.items():\n",
        "        if fruit_name == fruit:\n",
        "            print(\"This fruit is in stock! Here is how many:\\n\", stock)\n",
        "            found = True\n",
        "            break  # Exit the loop as we found the fruit\n",
        "    if not found:\n",
        "        print(\"This fruit is not in stock.\")  # If fruit was not found\n",
        "\n",
        "def main_7():\n",
        "    user_fruit = input('Enter a fruit: ').lower()\n",
        "    num_in_stock(user_fruit)\n",
        "\n",
        "if __name__ == '__main__':\n",
        "    main_7()\n",
        "\n"
      ],
      "metadata": {
        "colab": {
          "base_uri": "https://localhost:8080/"
        },
        "id": "wNDg4mVmaA4C",
        "outputId": "c6bb8190-6ce9-414c-f2aa-e4f5390bba22"
      },
      "execution_count": null,
      "outputs": [
        {
          "output_type": "stream",
          "name": "stdout",
          "text": [
            "Enter a fruit: lychee\n",
            "This fruit is not in stock.\n"
          ]
        }
      ]
    },
    {
      "cell_type": "code",
      "source": [
        "# 04_multiple_returns\n",
        "\n",
        "def get_user_data():\n",
        "  user_first_name = input(\"Enter your first name: \")\n",
        "  user_last_name = input(\"Enter your last name: \")\n",
        "  user_email = input(\"Enter your email: \")\n",
        "  return user_first_name,user_last_name,user_email\n",
        "\n",
        "def read_user_details(*detail):\n",
        "    return detail\n",
        "\n",
        "def main_8():\n",
        "  user_details = get_user_data()\n",
        "  print(read_user_details(*(user_details)))\n",
        "\n",
        "if __name__ == '__main__':\n",
        "  main_8()"
      ],
      "metadata": {
        "colab": {
          "base_uri": "https://localhost:8080/"
        },
        "id": "dQorO2LPcJ0E",
        "outputId": "89cae2ed-4043-4bae-8bc3-dd86efd88afa"
      },
      "execution_count": null,
      "outputs": [
        {
          "output_type": "stream",
          "name": "stdout",
          "text": [
            "Enter your first name: Shahzain \n",
            "Enter your last name: Ali\n",
            "Enter your email: shahzain@gmail.com\n",
            "('Shahzain ', 'Ali', 'shahzain@gmail.com')\n"
          ]
        }
      ]
    },
    {
      "cell_type": "code",
      "source": [
        "# 05_subtract_7\n",
        "\n",
        "def subtract_seven(num):\n",
        "\tnum = num - 7\n",
        "\treturn num\n",
        "\n",
        "def main_9():\n",
        "\tnum: int = 7\n",
        "\tnum = subtract_seven(num)\n",
        "\tprint(\"this should be zero: \", num)\n",
        "\n",
        "if __name__ == '__main__':\n",
        "    main_9()\n",
        "\n",
        "\n",
        "           ##############  Finished  ###############"
      ],
      "metadata": {
        "colab": {
          "base_uri": "https://localhost:8080/"
        },
        "id": "cJMPTzI5eGot",
        "outputId": "acb5d4bd-c283-4fd3-b428-f2cba10ba81a"
      },
      "execution_count": null,
      "outputs": [
        {
          "output_type": "stream",
          "name": "stdout",
          "text": [
            "this should be zero:  0\n"
          ]
        }
      ]
    },
    {
      "cell_type": "code",
      "source": [
        "# Practice work\n",
        "\n",
        "from dataclasses import dataclass , field\n",
        "from typing import TypeVar,ClassVar,Generic\n",
        "\n",
        "T = TypeVar('T')\n",
        "\n",
        "@dataclass\n",
        "class Stacked(Generic[T]):\n",
        "    items:list[T] = field(default_factory=list)\n",
        "    limit:ClassVar[int] = 10\n",
        "\n",
        "    def push(self,item:T) -> None:\n",
        "        self.items.append(item)\n",
        "\n",
        "    def pop(self) -> T:\n",
        "      return self.items.pop()\n",
        "\n",
        "\n",
        "stack_of_ints = Stacked[int]([10,20,30])\n",
        "stack_of_ints2 = Stacked[int]([10,20,30])\n",
        "\n",
        "stack_of_ints3 = stack_of_ints2 + stack_of_ints\n",
        "print(stack_of_ints)\n",
        "stack_of_ints.push(40)\n",
        "print(stack_of_ints)\n",
        "stack_of_ints.pop()\n",
        "print(stack_of_ints)"
      ],
      "metadata": {
        "id": "kmYXmUCAfjbW"
      },
      "execution_count": null,
      "outputs": []
    },
    {
      "cell_type": "code",
      "source": [
        "from typing import List, Sequence\n",
        "\n",
        "# List version (only accepts lists)\n",
        "def greet_list(names: List[str]) -> None:\n",
        "    for name in names:\n",
        "        print(f\"Hello, {name}!\")\n",
        "\n",
        "# Sequence version (accepts lists, tuples, strings)\n",
        "def greet_sequence(names: Sequence[str]) -> None:\n",
        "    for name in names:\n",
        "        print(f\"Hi, {name}!\")\n",
        "\n",
        "# Creating different types of sequences\n",
        "name_list = [\"Ali\", \"Ahmed\"]\n",
        "name_tuple = (\"Sara\", \"Zara\")\n",
        "name_string = \"Ayan\"  # Will treat as 'A', 'y', 'a', 'n'\n",
        "name_dic = {\"name\":\"Ali\",\"name2\":\"Ahmed\"}\n",
        "\n",
        "\n",
        "# Function Calls\n",
        "print(\"Using List[str]:\")\n",
        "greet_list(name_list)\n",
        "\n",
        "print(\"\\nUsing Sequence[str] with list:\")\n",
        "greet_sequence(name_list)\n",
        "\n",
        "print(\"\\nUsing Sequence[str] with tuple:\")\n",
        "greet_sequence(name_tuple)\n",
        "\n",
        "print(\"\\nUsing Sequence[str] with string:\")\n",
        "greet_sequence(name_string)\n",
        "\n",
        "\n",
        "\n",
        "# print(greet_sequence(name_dic))\n",
        "\n",
        "\n"
      ],
      "metadata": {
        "id": "34cUgNafr7tJ"
      },
      "execution_count": null,
      "outputs": []
    },
    {
      "cell_type": "code",
      "source": [
        "from dataclasses import dataclass , field\n",
        "from typing import TypeVar,ClassVar,Generic\n",
        "\n",
        "T = TypeVar('T')\n",
        "\n",
        "@dataclass\n",
        "class Stack(Generic[T]):\n",
        "    items:T | None = None\n",
        "    limit:ClassVar[int] = 10\n",
        "\n",
        "    # def push(self,item:T) -> None:\n",
        "    #     self.items.append(item)\n",
        "\n",
        "    # def pop(self) -> T:\n",
        "    #   return self.items.pop()\n",
        "\n",
        "    def __add__(self,other_obj):\n",
        "      return Stack(self.items + other_obj.items)\n",
        "\n",
        "\n",
        "stack_of_ints = Stack[int](10)\n",
        "stack_of_ints2 = Stack[int](10)\n",
        "\n",
        "stack_of_ints3 = stack_of_ints2 + stack_of_ints\n",
        "print(stack_of_ints3)"
      ],
      "metadata": {
        "id": "LRn3A1Q0pJsv"
      },
      "execution_count": null,
      "outputs": []
    },
    {
      "cell_type": "code",
      "source": [
        "from typing import Callable, Awaitable, Optional\n",
        "import asyncio\n",
        "\n",
        "# Type alias\n",
        "MaybeAwaitable = Awaitable[str] | str\n",
        "\n",
        "# Assume RunContextWrapper and Agent are defined elsewhere\n",
        "class RunContextWrapper:\n",
        "    pass\n",
        "\n",
        "class Agent:\n",
        "    pass\n",
        "\n",
        "# Function jo string return kare ya async result\n",
        "def process_task(context: RunContextWrapper, agent: Agent) -> MaybeAwaitable:\n",
        "    # Yeh function synchronous hai\n",
        "    return \"Task Completed\"\n",
        "\n",
        "# Async function jo string return kare\n",
        "async def async_process_task(\n",
        "    context: RunContextWrapper, agent: Agent\n",
        ") -> str:\n",
        "    await asyncio.sleep(1)  # Simulate delay\n",
        "    return \"Async Task Completed\"\n",
        "\n",
        "# Example function call\n",
        "async def main():\n",
        "    result = await async_process_task(RunContextWrapper(), Agent())\n",
        "    print(result)  # Output: Async Task Completed\n",
        "\n",
        "    result = process_task(RunContextWrapper(), Agent())\n",
        "    print(result)  # Output: Task Completed\n",
        "\n",
        "# Run async example\n",
        "asyncio.run(main())\n"
      ],
      "metadata": {
        "id": "L364DVWPpEf3"
      },
      "execution_count": null,
      "outputs": []
    }
  ]
}