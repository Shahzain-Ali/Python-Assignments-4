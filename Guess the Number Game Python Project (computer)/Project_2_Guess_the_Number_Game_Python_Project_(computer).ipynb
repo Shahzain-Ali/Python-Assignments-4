{
  "nbformat": 4,
  "nbformat_minor": 0,
  "metadata": {
    "colab": {
      "provenance": []
    },
    "kernelspec": {
      "name": "python3",
      "display_name": "Python 3"
    },
    "language_info": {
      "name": "python"
    }
  },
  "cells": [
    {
      "cell_type": "code",
      "execution_count": null,
      "metadata": {
        "id": "78ExLRd__QlG"
      },
      "outputs": [],
      "source": [
        "import random\n",
        "def number_guessing(x):\n",
        "  random_number = random.randint(1,x)\n",
        "  guess = 0\n",
        "  while guess != random_number:\n",
        "    guess = int(input(f\"Guess a number between 1 and {x}: \"))\n",
        "    if guess < random_number:\n",
        "      print(\"Sorry, guess again.Your guess is less than correct number.\")\n",
        "    elif guess > random_number:\n",
        "      print(\"Sorry, guess again.Your guess greater than correct number.\")\n",
        "  print(f\"Congrats. You have guessed the number {random_number} correctly!!\")\n",
        "\n",
        "number_guessing(10)"
      ]
    }
  ]
}