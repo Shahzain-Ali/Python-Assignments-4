{
  "nbformat": 4,
  "nbformat_minor": 0,
  "metadata": {
    "colab": {
      "provenance": []
    },
    "kernelspec": {
      "name": "python3",
      "display_name": "Python 3"
    },
    "language_info": {
      "name": "python"
    }
  },
  "cells": [
    {
      "cell_type": "code",
      "execution_count": null,
      "metadata": {
        "id": "SN1y09kH_p-N"
      },
      "outputs": [],
      "source": [
        "def computer_guess(x):\n",
        "  low = 1\n",
        "  high = x\n",
        "  feedback = ''\n",
        "  while feedback != 'c':\n",
        "    if low > high: #Low high se barha nhi hosaktha kyuke low starting point hai\n",
        "      print(\"Something went wrong! Restart the game.\")\n",
        "      break\n",
        "    elif low != high:\n",
        "      guess = random.randint(low,high)\n",
        "    else:\n",
        "      guess = low\n",
        "\n",
        "    feedback = input(f\"Is {guess} too high (H), too low (L), or correct (C)? \").lower()\n",
        "    if feedback == 'h':\n",
        "      high = guess - 1\n",
        "    elif feedback == 'l':\n",
        "      low = guess + 1\n",
        "\n",
        "computer_guess(10)"
      ]
    }
  ]
}