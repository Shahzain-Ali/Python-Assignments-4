{
  "nbformat": 4,
  "nbformat_minor": 0,
  "metadata": {
    "colab": {
      "provenance": []
    },
    "kernelspec": {
      "name": "python3",
      "display_name": "Python 3"
    },
    "language_info": {
      "name": "python"
    }
  },
  "cells": [
    {
      "cell_type": "code",
      "execution_count": null,
      "metadata": {
        "id": "VOrWOOuLACh1"
      },
      "outputs": [],
      "source": [
        "import string\n",
        "import random\n",
        "\n",
        "\n",
        "# Proper Hangman Game maintaining order\n",
        "\n",
        "def hangman():\n",
        "    word_func = lambda w: random.choice(w).upper()\n",
        "    word = word_func([\"river\", \"bridge\", \"forest\", \"castle\"])  # Random word select hoga\n",
        "    print(\"Word to guess:\", word)\n",
        "    word_letters = set(word)\n",
        "    alphabet = set(string.ascii_uppercase)\n",
        "    user_letters = set()\n",
        "\n",
        "    while len(word_letters) > 0:\n",
        "        print('You have used these letters: ', ' '.join(user_letters))\n",
        "\n",
        "\n",
        "        # ✅ Only unique letters should be shown, order doesn't matter.\n",
        "\n",
        "        word_list = [letter if letter in user_letters else '-' for letter in word]\n",
        "        print('Current word: ', ' '.join(word_list))\n",
        "\n",
        "        user_letter = input('Guess a letter: ').upper()\n",
        "        if user_letter in alphabet - user_letters:\n",
        "            user_letters.add(user_letter)\n",
        "            if user_letter in word_letters:\n",
        "                word_letters.remove(user_letter)\n",
        "            else:\n",
        "                print('Letter is not in word.')\n",
        "        elif user_letter in user_letters:\n",
        "            print('You have already used that character. Please try again.')\n",
        "        else:\n",
        "            print('Invalid character. Please try again.')\n",
        "\n",
        "    print(f'You guessed the word {word} correctly!!')\n",
        "\n",
        "hangman()"
      ]
    },
    {
      "cell_type": "code",
      "source": [
        "           ### Hangman Game but showing only unique letter whithout maintaining order ###\n",
        "\n",
        "# def hangman():\n",
        "#     word_func = lambda w: random.choice(w).upper()\n",
        "#     word = word_func([\"river\", \"bridge\", \"forest\", \"castle\"])  # Random word select hoga\n",
        "#     print(\"Word to guess:\", word)\n",
        "#     word_set_letter = set(word)\n",
        "#     word_letters = set(word)\n",
        "#     alphabet = set(string.ascii_uppercase)\n",
        "#     user_letters = set()\n",
        "\n",
        "#     while len(word_set_letter) > 0:\n",
        "#         print('You have used these letters: ', ' '.join(user_letters))\n",
        "\n",
        "\n",
        "#         # ✅ Only unique letters should be shown, order doesn't matter.\n",
        "\n",
        "#         word_list = [letter if letter in user_letters else '-' for letter in word_letters]\n",
        "#         print('Current word: ', ' '.join(word_list))\n",
        "\n",
        "#         user_letter = input('Guess a letter: ').upper()\n",
        "#         if user_letter in alphabet - user_letters:\n",
        "#             user_letters.add(user_letter)\n",
        "#             if user_letter in word_set_letter:\n",
        "#                 word_set_letter.remove(user_letter)\n",
        "#             else:\n",
        "#                 print('Letter is not in word.')\n",
        "#         elif user_letter in user_letters:\n",
        "#             print('You have already used that character. Please try again.')\n",
        "#         else:\n",
        "#             print('Invalid character. Please try again.')\n",
        "\n",
        "#     print(f'You guessed the word {word} correctly!!')\n",
        "\n",
        "# hangman()"
      ],
      "metadata": {
        "id": "oh0gLQFBBDiI"
      },
      "execution_count": null,
      "outputs": []
    }
  ]
}