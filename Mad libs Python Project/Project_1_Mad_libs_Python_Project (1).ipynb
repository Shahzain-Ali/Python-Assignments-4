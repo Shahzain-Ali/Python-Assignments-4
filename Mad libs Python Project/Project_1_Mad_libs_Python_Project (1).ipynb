{
  "nbformat": 4,
  "nbformat_minor": 0,
  "metadata": {
    "colab": {
      "provenance": []
    },
    "kernelspec": {
      "name": "python3",
      "display_name": "Python 3"
    },
    "language_info": {
      "name": "python"
    }
  },
  "cells": [
    {
      "cell_type": "code",
      "source": [
        "name = input(\"What is your name? \")\n",
        "mysterious_Object = input(\"You found a mysterious object. What is it? \")\n",
        "something_magical = input(\"Something strange happens! What is it? \")\n",
        "superpower = input(\"This object gives you a superpower! What is it? \")\n",
        "\n",
        "print(f\"One day, {name} found an old {mysterious_Object} in their attic. It looked ordinary, but when they touched it, \\\n",
        "{something_magical} happened! Suddenly, they could {superpower} just by writing with it.\")"
      ],
      "metadata": {
        "colab": {
          "base_uri": "https://localhost:8080/"
        },
        "id": "4bRSltM5vHw3",
        "outputId": "782d5958-25fd-4fc0-d67c-f5bee179be42"
      },
      "execution_count": null,
      "outputs": [
        {
          "output_type": "stream",
          "name": "stdout",
          "text": [
            "What is your name? Shahzain Ali\n",
            "You found a mysterious object. What is it? Golden peb\n",
            "Something strange happens! What is it? spark a light\n",
            "This object gives you a superpower! What is it? make anything possible\n",
            "One day, Shahzain Ali found an old Golden peb in their attic. It looked ordinary, but when they touched it, spark a light happened! Suddenly, they could make anything possible just by writing with it.\n"
          ]
        }
      ]
    }
  ]
}