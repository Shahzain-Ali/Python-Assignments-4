{
  "nbformat": 4,
  "nbformat_minor": 0,
  "metadata": {
    "colab": {
      "provenance": []
    },
    "kernelspec": {
      "name": "python3",
      "display_name": "Python 3"
    },
    "language_info": {
      "name": "python"
    }
  },
  "cells": [
    {
      "cell_type": "code",
      "execution_count": null,
      "metadata": {
        "id": "3SFVf1HTAeXZ"
      },
      "outputs": [],
      "source": [
        "import random\n",
        "\n",
        "print(\"Generate your password!\")\n",
        "\n",
        "chars = 'abcefghijklmnopqrstuvwxyzABCDEFGHIJKLMNOPQRSTUVWXYZ!@#$%^&*()?0123456789'\n",
        "\n",
        "no_of_password = int(input(\"Enter number of passwords you want to generate: \"))\n",
        "\n",
        "length_of_password = int(input(\"Enter the length of single password: \"))\n",
        "\n",
        "print(\"Your passwords:\")\n",
        "\n",
        "for p in range(no_of_password):\n",
        "  password = ''\n",
        "  for c in range(length_of_password):\n",
        "    password += random.choice(chars)\n",
        "  print(password)"
      ]
    }
  ]
}