{
  "nbformat": 4,
  "nbformat_minor": 0,
  "metadata": {
    "colab": {
      "provenance": []
    },
    "kernelspec": {
      "name": "python3",
      "display_name": "Python 3"
    },
    "language_info": {
      "name": "python"
    }
  },
  "cells": [
    {
      "cell_type": "code",
      "execution_count": null,
      "metadata": {
        "id": "oYoXKJArbDxN"
      },
      "outputs": [],
      "source": [
        "!pip install qrcode"
      ]
    },
    {
      "cell_type": "code",
      "source": [
        "!apt-get install libzbar0"
      ],
      "metadata": {
        "id": "FmCqN-yEAYPa"
      },
      "execution_count": null,
      "outputs": []
    },
    {
      "cell_type": "code",
      "source": [
        "!pip install pyzbar"
      ],
      "metadata": {
        "id": "nteyL4VhAE4y"
      },
      "execution_count": null,
      "outputs": []
    },
    {
      "cell_type": "code",
      "source": [
        "import qrcode\n",
        "data = \"Present\"\n",
        "\n",
        "img = qrcode.make(data)\n",
        "img.save(\"/qr_code.png\")\n"
      ],
      "metadata": {
        "id": "G4usk76ZbM0N"
      },
      "execution_count": 13,
      "outputs": []
    },
    {
      "cell_type": "code",
      "source": [
        "from PIL import Image\n",
        "import IPython.display as display\n",
        "\n",
        "img = Image.open('/qr_code.png')  # ← apni file ka path\n",
        "display.display(img)"
      ],
      "metadata": {
        "colab": {
          "base_uri": "https://localhost:8080/",
          "height": 307
        },
        "id": "WxkMJkVVAwi4",
        "outputId": "cbe30a46-f581-4507-e460-08c0eeb0c4c8"
      },
      "execution_count": 20,
      "outputs": [
        {
          "output_type": "display_data",
          "data": {
            "text/plain": [
              "<PIL.PngImagePlugin.PngImageFile image mode=1 size=290x290>"
            ],
            "image/png": "[encoded data removed]",
            "image/jpeg": "[encoded data removed]"
          },
          "metadata": {}
        }
      ]
    },
    {
      "cell_type": "code",
      "source": [
        "from PIL import Image\n",
        "from pyzbar.pyzbar import decode\n",
        "\n",
        "# Image open karo\n",
        "img = Image.open('/qr_code.png')  # ← Replace with your file name\n",
        "\n",
        "# QR decode karo\n",
        "decoded_objects = decode(img)\n",
        "\n",
        "for obj in decoded_objects:\n",
        "    print(\"Data:\", obj.data.decode(\"utf-8\"))\n"
      ],
      "metadata": {
        "colab": {
          "base_uri": "https://localhost:8080/"
        },
        "id": "hmSL1XbU_Sb3",
        "outputId": "bd501da7-8b78-438d-dc13-2af2f21a9f05"
      },
      "execution_count": 9,
      "outputs": [
        {
          "output_type": "stream",
          "name": "stdout",
          "text": [
            "Data: Present\n"
          ]
        }
      ]
    }
  ]
}