{
  "nbformat": 4,
  "nbformat_minor": 0,
  "metadata": {
    "colab": {
      "provenance": []
    },
    "kernelspec": {
      "name": "python3",
      "display_name": "Python 3"
    },
    "language_info": {
      "name": "python"
    }
  },
  "cells": [
    {
      "cell_type": "code",
      "execution_count": null,
      "metadata": {
        "id": "kWKw6VSi1BIK"
      },
      "outputs": [],
      "source": [
        "import os\n",
        "\n",
        "# C:/Users/Username/Documents/file.txt\n",
        "# In the path, make sure that the forward slash (/) is used.\n",
        "path = 'Your folder path where folders and files are exists'\n",
        "def main():\n",
        "  i = 0\n",
        "  for file_name in os.listdir(path):\n",
        "      changed_path_name = f\"Assignment-{i}.jpg\"\n",
        "      original_path = path + file_name\n",
        "      changed_path = path + changed_path_name\n",
        "      os.rename(original_path,changed_path)\n",
        "      i+=1\n",
        "\n",
        "if __name__ == '__main__':\n",
        "  main()"
      ]
    }
  ]
}