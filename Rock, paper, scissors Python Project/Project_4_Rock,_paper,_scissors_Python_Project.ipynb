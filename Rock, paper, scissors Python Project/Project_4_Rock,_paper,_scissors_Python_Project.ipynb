{
  "nbformat": 4,
  "nbformat_minor": 0,
  "metadata": {
    "colab": {
      "provenance": []
    },
    "kernelspec": {
      "name": "python3",
      "display_name": "Python 3"
    },
    "language_info": {
      "name": "python"
    }
  },
  "cells": [
    {
      "cell_type": "code",
      "execution_count": null,
      "metadata": {
        "id": "FA7HB3tA_27Z"
      },
      "outputs": [],
      "source": [
        "def play_game():\n",
        "  user = input('Enter a choice (rock, paper, scissors) as r , p , s: ')\n",
        "  computer = random.choice(['r', 'p', 's'])\n",
        "\n",
        "  if user == computer:\n",
        "    return 'It\\'s a tie'\n",
        "\n",
        "  elif (user == 'r' and computer == 's') or (user == 's' and computer == 'p') \\\n",
        "    or (user == 'p' and computer == 'r'):\n",
        "    return 'You won!'\n",
        "  else:\n",
        "      return 'You lost!'\n",
        "print(play_game())"
      ]
    }
  ]
}