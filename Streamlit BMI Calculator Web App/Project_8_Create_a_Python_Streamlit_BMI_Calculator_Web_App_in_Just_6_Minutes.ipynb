{
  "nbformat": 4,
  "nbformat_minor": 0,
  "metadata": {
    "colab": {
      "provenance": []
    },
    "kernelspec": {
      "name": "python3",
      "display_name": "Python 3"
    },
    "language_info": {
      "name": "python"
    }
  },
  "cells": [
    {
      "cell_type": "code",
      "source": [
        "!pip install streamlit"
      ],
      "metadata": {
        "collapsed": true,
        "id": "7MEkNA91FOAA"
      },
      "execution_count": null,
      "outputs": []
    },
    {
      "cell_type": "code",
      "execution_count": null,
      "metadata": {
        "collapsed": true,
        "id": "dThLDxVvE55R"
      },
      "outputs": [],
      "source": [
        "import streamlit as st\n",
        "\n",
        "\n",
        "st.title(\"BMI Calculator\")\n",
        "\n",
        "st.write(\"If you are not sure about your height in cm? First convert from feet/inches below!\")\n",
        "\n",
        "       ############## To convert height(feet/inches) into centimetre(cm) ##########\n",
        "\n",
        "# step=1 means input only integer values (no decimals allowed).\n",
        "# %d ensures that only integers are displayed.\n",
        "\n",
        "feet = st.number_input(\"Enter your feet of height: \",format=\"%d\",step=1)\n",
        "\n",
        "exact_feet_in_cm = feet * 30.48\n",
        "\n",
        "inch = st.number_input(\"Enter your inch of height: \",format=\"%d\",step=1)\n",
        "\n",
        "exact_inch_in_cm = inch * 2.54\n",
        "\n",
        "height_in_cm = exact_feet_in_cm + exact_inch_in_cm\n",
        "\n",
        "st.write(f\"Your height in cm is {height_in_cm   }\")\n",
        "\n",
        "               ########### BMI Calculator #############\n",
        "\n",
        "height = st.slider(\"Enter your height in (cm): \",100,200,170)\n",
        "\n",
        "weight = st.slider(\"Enter you weight in (kg): \",40,200,70)\n",
        "\n",
        "bmi = weight / (height/100) ** 2\n",
        "\n",
        "st.write(f\"Your BMI(Body Mass Index) is {bmi}\")\n",
        "\n",
        "st.title(\"BMI Categories\")\n",
        "\n",
        "st.write(\"Underweight: BMI less than 18.5\")\n",
        "st.write(\"Normal weight: BMI between 18.5 and 24.9 \")\n",
        "st.write(\"Overweight: BMI between 24.9 and 29.9\")\n",
        "st.write(\"Obesity: BMI 30 or greater \")\n",
        "\n"
      ]
    }
  ]
}