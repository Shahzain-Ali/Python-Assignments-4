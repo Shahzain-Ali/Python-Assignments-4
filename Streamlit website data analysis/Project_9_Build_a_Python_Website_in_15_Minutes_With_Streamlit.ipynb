{
  "nbformat": 4,
  "nbformat_minor": 0,
  "metadata": {
    "colab": {
      "provenance": []
    },
    "kernelspec": {
      "name": "python3",
      "display_name": "Python 3"
    },
    "language_info": {
      "name": "python"
    }
  },
  "cells": [
    {
      "cell_type": "code",
      "source": [
        "!pip install streamlit pandas"
      ],
      "metadata": {
        "collapsed": true,
        "id": "A_Q_qYKoGT26"
      },
      "execution_count": null,
      "outputs": []
    },
    {
      "cell_type": "code",
      "execution_count": null,
      "metadata": {
        "id": "AAH9vHZ1GAJs"
      },
      "outputs": [],
      "source": [
        "import streamlit as st\n",
        "import pandas as pd\n",
        "\n",
        "st.title(\"Simple Data Dashboard\")\n",
        "\n",
        "uploaded_file = st.file_uploader(\"Upload a csv file: \",type='csv')\n",
        "\n",
        "if uploaded_file is not None:\n",
        "    st.success(\"File uploaded successfully\")\n",
        "\n",
        "    st.subheader(\"Data Preview:\")\n",
        "    df = pd.read_csv(uploaded_file)\n",
        "    st.write(df.head())\n",
        "\n",
        "    st.subheader(\"Data Summary:\")\n",
        "    st.write(df.describe())\n",
        "\n",
        "    st.subheader(\"Data Filter:\")\n",
        "    df_columns = df.columns.to_list()\n",
        "    selected_column = st.selectbox(\"Select a specific column\",df_columns)\n",
        "    unique_values = df[selected_column].unique()\n",
        "    selected_value = st.selectbox(\"Select a specific value\",unique_values)\n",
        "    filter_data = df[df[selected_column] == selected_value]\n",
        "    st.write(filter_data)\n",
        "\n",
        "    st.subheader(\"Chart Representation: \")\n",
        "    X_column = st.selectbox(\"Select a x-axis column: \",df_columns)\n",
        "    Y_column = st.selectbox(\"Select a y-axis column: \",df_columns)\n",
        "    if st.button(\"Generate Chart\"):\n",
        "        st.line_chart(filter_data.set_index(X_column)[Y_column])\n",
        "else:\n",
        "    st.write(\"Waiting for uplaoding a file!\")"
      ]
    }
  ]
}