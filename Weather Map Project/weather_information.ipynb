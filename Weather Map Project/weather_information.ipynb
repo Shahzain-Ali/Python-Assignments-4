{
  "nbformat": 4,
  "nbformat_minor": 0,
  "metadata": {
    "colab": {
      "provenance": []
    },
    "kernelspec": {
      "name": "python3",
      "display_name": "Python 3"
    },
    "language_info": {
      "name": "python"
    }
  },
  "cells": [
    {
      "cell_type": "code",
      "execution_count": null,
      "metadata": {
        "id": "9fXH2tFRevwX"
      },
      "outputs": [],
      "source": [
        "import requests\n",
        "from pprint import pprint\n",
        "\n",
        "\n",
        "# api_key = \"add here weather api key\"\n",
        "\n",
        "city = input('Enter a city: ')\n",
        "\n",
        "base_url = f'https://api.openweathermap.org/data/2.5/weather?appid={api_key}&q={city}&units=metric'\n",
        "\n",
        "weather_data = requests.get(base_url).json()\n",
        "\n",
        "pprint(weather_data)"
      ]
    }
  ]
}